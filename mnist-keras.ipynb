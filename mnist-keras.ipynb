{
 "cells": [
  {
   "cell_type": "code",
   "execution_count": 4,
   "metadata": {},
   "outputs": [],
   "source": [
    "#coding:utf-8\n",
    "from tensorflow.examples.tutorials.mnist import input_data\n",
    "\n",
    "import numpy as np\n",
    "np.set_printoptions(suppress=True)\n",
    "\n",
    "import matplotlib.pyplot as plt\n",
    "%matplotlib inline"
   ]
  },
  {
   "cell_type": "code",
   "execution_count": 5,
   "metadata": {},
   "outputs": [
    {
     "name": "stdout",
     "output_type": "stream",
     "text": [
      "WARNING:tensorflow:From <ipython-input-5-02c0c9f5ddf1>:1: read_data_sets (from tensorflow.contrib.learn.python.learn.datasets.mnist) is deprecated and will be removed in a future version.\n",
      "Instructions for updating:\n",
      "Please use alternatives such as official/mnist/dataset.py from tensorflow/models.\n",
      "WARNING:tensorflow:From c:\\users\\admim\\.conda\\envs\\tensorflow-gpu\\lib\\site-packages\\tensorflow\\contrib\\learn\\python\\learn\\datasets\\mnist.py:260: maybe_download (from tensorflow.contrib.learn.python.learn.datasets.base) is deprecated and will be removed in a future version.\n",
      "Instructions for updating:\n",
      "Please write your own downloading logic.\n",
      "WARNING:tensorflow:From c:\\users\\admim\\.conda\\envs\\tensorflow-gpu\\lib\\site-packages\\tensorflow\\contrib\\learn\\python\\learn\\datasets\\mnist.py:262: extract_images (from tensorflow.contrib.learn.python.learn.datasets.mnist) is deprecated and will be removed in a future version.\n",
      "Instructions for updating:\n",
      "Please use tf.data to implement this functionality.\n",
      "Extracting MNIST_data/train-images-idx3-ubyte.gz\n",
      "WARNING:tensorflow:From c:\\users\\admim\\.conda\\envs\\tensorflow-gpu\\lib\\site-packages\\tensorflow\\contrib\\learn\\python\\learn\\datasets\\mnist.py:267: extract_labels (from tensorflow.contrib.learn.python.learn.datasets.mnist) is deprecated and will be removed in a future version.\n",
      "Instructions for updating:\n",
      "Please use tf.data to implement this functionality.\n",
      "Extracting MNIST_data/train-labels-idx1-ubyte.gz\n",
      "WARNING:tensorflow:From c:\\users\\admim\\.conda\\envs\\tensorflow-gpu\\lib\\site-packages\\tensorflow\\contrib\\learn\\python\\learn\\datasets\\mnist.py:110: dense_to_one_hot (from tensorflow.contrib.learn.python.learn.datasets.mnist) is deprecated and will be removed in a future version.\n",
      "Instructions for updating:\n",
      "Please use tf.one_hot on tensors.\n",
      "Extracting MNIST_data/t10k-images-idx3-ubyte.gz\n",
      "Extracting MNIST_data/t10k-labels-idx1-ubyte.gz\n",
      "WARNING:tensorflow:From c:\\users\\admim\\.conda\\envs\\tensorflow-gpu\\lib\\site-packages\\tensorflow\\contrib\\learn\\python\\learn\\datasets\\mnist.py:290: DataSet.__init__ (from tensorflow.contrib.learn.python.learn.datasets.mnist) is deprecated and will be removed in a future version.\n",
      "Instructions for updating:\n",
      "Please use alternatives such as official/mnist/dataset.py from tensorflow/models.\n"
     ]
    }
   ],
   "source": [
    "mnist = input_data.read_data_sets(\"MNIST_data/\", one_hot=True) #MNIST数据输入"
   ]
  },
  {
   "cell_type": "code",
   "execution_count": 6,
   "metadata": {},
   "outputs": [],
   "source": [
    "X_train = mnist.train.images\n",
    "y_train = mnist.train.labels\n",
    "X_test = mnist.test.images\n",
    "y_test = mnist.test.labels\n",
    "\n",
    "# 输入图像大小是 28x28 大小\n",
    "X_train = X_train.reshape([-1, 28, 28, 1])\n",
    "X_test = X_test.reshape([-1, 28, 28, 1])"
   ]
  },
  {
   "cell_type": "code",
   "execution_count": 7,
   "metadata": {},
   "outputs": [
    {
     "data": {
      "text/plain": [
       "<matplotlib.image.AxesImage at 0x28991a44548>"
      ]
     },
     "execution_count": 7,
     "metadata": {},
     "output_type": "execute_result"
    },
    {
     "data": {
      "image/png": "[encoded data removed]",
      "text/plain": [
       "<Figure size 432x288 with 1 Axes>"
      ]
     },
     "metadata": {
      "needs_background": "light"
     },
     "output_type": "display_data"
    }
   ],
   "source": [
    "plt.imshow(X_train[0].reshape((28, 28)), cmap='gray')"
   ]
  },
  {
   "cell_type": "code",
   "execution_count": 8,
   "metadata": {},
   "outputs": [
    {
     "data": {
      "text/plain": [
       "<matplotlib.image.AxesImage at 0x28992abf408>"
      ]
     },
     "execution_count": 8,
     "metadata": {},
     "output_type": "execute_result"
    },
    {
     "data": {
      "image/png": "[encoded data removed]",
      "text/plain": [
       "<Figure size 432x288 with 1 Axes>"
      ]
     },
     "metadata": {
      "needs_background": "light"
     },
     "output_type": "display_data"
    }
   ],
   "source": [
    "plt.imshow(X_train[1].reshape((28, 28)), cmap='gray')"
   ]
  },
  {
   "cell_type": "code",
   "execution_count": 9,
   "metadata": {},
   "outputs": [],
   "source": [
    "# Importing the Keras libraries and packages\n",
    "# Importing the Keras libraries and packages\n",
    "from keras.models import Sequential\n",
    "from keras.layers import Dense\n",
    "from keras.layers import Conv2D\n",
    "from keras.layers import MaxPooling2D\n",
    "from keras.layers import Dropout\n",
    "from keras.layers import Flatten"
   ]
  },
  {
   "cell_type": "code",
   "execution_count": 10,
   "metadata": {},
   "outputs": [],
   "source": [
    "def build_classifier():\n",
    "\n",
    "    classifier = Sequential()\n",
    "\n",
    "    # 第一层 Conv2D，激活函数 Relu\n",
    "    classifier.add(Conv2D(filters = 2, kernel_size = 3, strides = 1, padding = \"SAME\", activation = \"relu\", input_shape = (28, 28, 1)))\n",
    "\n",
    "    # 第二层 Maxpooling, 使用保持图像大小的 padding\n",
    "    classifier.add(MaxPooling2D(pool_size=(2, 2),  padding='SAME'))\n",
    "\n",
    "    # 第三层 Dropout\n",
    "    classifier.add(Dropout(0.5))\n",
    "\n",
    "    # 第四层 Conv2D，激活函数 Relu\n",
    "    classifier.add(Conv2D(filters = 2, kernel_size = 3, strides = 1, padding = \"SAME\", activation = \"relu\"))\n",
    "\n",
    "    # 第五层 Maxpoling，使用保持图像大小的 padding\n",
    "    classifier.add(MaxPooling2D(pool_size=(2, 2),  padding='SAME'))\n",
    "\n",
    "    # 第六层 Dropout\n",
    "    classifier.add(Dropout(0.5))\n",
    "\n",
    "    # 第七层 Flatten\n",
    "    classifier.add(Flatten())\n",
    "\n",
    "    # 第八层 Dense\n",
    "    classifier.add(Dense(kernel_initializer=\"uniform\", units = 4))\n",
    "\n",
    "    # 第九层 softmax 输出\n",
    "    classifier.add(Dense(kernel_initializer=\"uniform\", units = 10, activation=\"softmax\"))\n",
    "\n",
    "    #  使用 adam 训练\n",
    "    classifier.compile(optimizer = 'adam', loss = 'categorical_crossentropy', metrics=['accuracy'])\n",
    "\n",
    "    return classifier"
   ]
  },
  {
   "cell_type": "code",
   "execution_count": 11,
   "metadata": {},
   "outputs": [
    {
     "name": "stdout",
     "output_type": "stream",
     "text": [
      "WARNING:tensorflow:From c:\\users\\admim\\.conda\\envs\\tensorflow-gpu\\lib\\site-packages\\keras\\backend\\tensorflow_backend.py:4070: The name tf.nn.max_pool is deprecated. Please use tf.nn.max_pool2d instead.\n",
      "\n",
      "Model: \"sequential_1\"\n",
      "_________________________________________________________________\n",
      "Layer (type)                 Output Shape              Param #   \n",
      "=================================================================\n",
      "conv2d_1 (Conv2D)            (None, 28, 28, 2)         20        \n",
      "_________________________________________________________________\n",
      "max_pooling2d_1 (MaxPooling2 (None, 14, 14, 2)         0         \n",
      "_________________________________________________________________\n",
      "dropout_1 (Dropout)          (None, 14, 14, 2)         0         \n",
      "_________________________________________________________________\n",
      "conv2d_2 (Conv2D)            (None, 14, 14, 2)         38        \n",
      "_________________________________________________________________\n",
      "max_pooling2d_2 (MaxPooling2 (None, 7, 7, 2)           0         \n",
      "_________________________________________________________________\n",
      "dropout_2 (Dropout)          (None, 7, 7, 2)           0         \n",
      "_________________________________________________________________\n",
      "flatten_1 (Flatten)          (None, 98)                0         \n",
      "_________________________________________________________________\n",
      "dense_1 (Dense)              (None, 4)                 396       \n",
      "_________________________________________________________________\n",
      "dense_2 (Dense)              (None, 10)                50        \n",
      "=================================================================\n",
      "Total params: 504\n",
      "Trainable params: 504\n",
      "Non-trainable params: 0\n",
      "_________________________________________________________________\n"
     ]
    }
   ],
   "source": [
    "classifier = build_classifier()\n",
    "classifier.summary()"
   ]
  },
  {
   "cell_type": "code",
   "execution_count": 12,
   "metadata": {},
   "outputs": [
    {
     "name": "stdout",
     "output_type": "stream",
     "text": [
      "WARNING:tensorflow:From c:\\users\\admim\\.conda\\envs\\tensorflow-gpu\\lib\\site-packages\\keras\\backend\\tensorflow_backend.py:422: The name tf.global_variables is deprecated. Please use tf.compat.v1.global_variables instead.\n",
      "\n",
      "Train on 55000 samples, validate on 10000 samples\n",
      "Epoch 1/50\n",
      "55000/55000 [==============================] - 10s 190us/step - loss: 1.5304 - accuracy: 0.4609 - val_loss: 1.0716 - val_accuracy: 0.6750\n",
      "\n",
      "Epoch 00001: val_loss improved from inf to 1.07164, saving model to minions.hdf5\n",
      "Epoch 2/50\n",
      "55000/55000 [==============================] - 8s 143us/step - loss: 1.3127 - accuracy: 0.5415 - val_loss: 1.0144 - val_accuracy: 0.7065\n",
      "\n",
      "Epoch 00002: val_loss improved from 1.07164 to 1.01443, saving model to minions.hdf5\n",
      "Epoch 3/50\n",
      "55000/55000 [==============================] - 8s 137us/step - loss: 1.2210 - accuracy: 0.5801 - val_loss: 0.9363 - val_accuracy: 0.7328\n",
      "\n",
      "Epoch 00003: val_loss improved from 1.01443 to 0.93629, saving model to minions.hdf5\n",
      "Epoch 4/50\n",
      "55000/55000 [==============================] - 9s 161us/step - loss: 1.1383 - accuracy: 0.6064 - val_loss: 0.8688 - val_accuracy: 0.7447\n",
      "\n",
      "Epoch 00004: val_loss improved from 0.93629 to 0.86881, saving model to minions.hdf5\n",
      "Epoch 5/50\n",
      "55000/55000 [==============================] - 9s 164us/step - loss: 1.1022 - accuracy: 0.6172 - val_loss: 0.8288 - val_accuracy: 0.7514\n",
      "\n",
      "Epoch 00005: val_loss improved from 0.86881 to 0.82881, saving model to minions.hdf5\n",
      "Epoch 6/50\n",
      "55000/55000 [==============================] - 10s 174us/step - loss: 1.0783 - accuracy: 0.6238 - val_loss: 0.8179 - val_accuracy: 0.7478\n",
      "\n",
      "Epoch 00006: val_loss improved from 0.82881 to 0.81786, saving model to minions.hdf5\n",
      "Epoch 7/50\n",
      "55000/55000 [==============================] - 10s 175us/step - loss: 1.0705 - accuracy: 0.6247 - val_loss: 0.8029 - val_accuracy: 0.7577\n",
      "\n",
      "Epoch 00007: val_loss improved from 0.81786 to 0.80290, saving model to minions.hdf5\n",
      "Epoch 8/50\n",
      "55000/55000 [==============================] - 9s 171us/step - loss: 1.0584 - accuracy: 0.6321 - val_loss: 0.7859 - val_accuracy: 0.7609\n",
      "\n",
      "Epoch 00008: val_loss improved from 0.80290 to 0.78595, saving model to minions.hdf5\n",
      "Epoch 9/50\n",
      "55000/55000 [==============================] - 7s 134us/step - loss: 1.0447 - accuracy: 0.6360 - val_loss: 0.7751 - val_accuracy: 0.7702\n",
      "\n",
      "Epoch 00009: val_loss improved from 0.78595 to 0.77507, saving model to minions.hdf5\n",
      "Epoch 10/50\n",
      "55000/55000 [==============================] - 12s 225us/step - loss: 1.0417 - accuracy: 0.6401 - val_loss: 0.7669 - val_accuracy: 0.7690\n",
      "\n",
      "Epoch 00010: val_loss improved from 0.77507 to 0.76687, saving model to minions.hdf5\n",
      "Epoch 11/50\n",
      "55000/55000 [==============================] - 13s 235us/step - loss: 1.0350 - accuracy: 0.6433 - val_loss: 0.7616 - val_accuracy: 0.7719\n",
      "\n",
      "Epoch 00011: val_loss improved from 0.76687 to 0.76159, saving model to minions.hdf5\n",
      "Epoch 12/50\n",
      "55000/55000 [==============================] - 11s 199us/step - loss: 1.0339 - accuracy: 0.6458 - val_loss: 0.7564 - val_accuracy: 0.7755\n",
      "\n",
      "Epoch 00012: val_loss improved from 0.76159 to 0.75642, saving model to minions.hdf5\n",
      "Epoch 13/50\n",
      "55000/55000 [==============================] - 11s 203us/step - loss: 1.0305 - accuracy: 0.6450 - val_loss: 0.7589 - val_accuracy: 0.7732\n",
      "\n",
      "Epoch 00013: val_loss did not improve from 0.75642\n",
      "Epoch 14/50\n",
      "55000/55000 [==============================] - 10s 177us/step - loss: 1.0269 - accuracy: 0.6464 - val_loss: 0.7526 - val_accuracy: 0.7727\n",
      "\n",
      "Epoch 00014: val_loss improved from 0.75642 to 0.75265, saving model to minions.hdf5\n",
      "Epoch 15/50\n",
      "55000/55000 [==============================] - 10s 181us/step - loss: 1.0264 - accuracy: 0.6497 - val_loss: 0.7584 - val_accuracy: 0.7735\n",
      "\n",
      "Epoch 00015: val_loss did not improve from 0.75265\n",
      "Epoch 16/50\n",
      "55000/55000 [==============================] - 12s 213us/step - loss: 1.0182 - accuracy: 0.6523 - val_loss: 0.7459 - val_accuracy: 0.7754\n",
      "\n",
      "Epoch 00016: val_loss improved from 0.75265 to 0.74592, saving model to minions.hdf5\n",
      "Epoch 17/50\n",
      "55000/55000 [==============================] - 12s 214us/step - loss: 1.0192 - accuracy: 0.6527 - val_loss: 0.7528 - val_accuracy: 0.7708\n",
      "\n",
      "Epoch 00017: val_loss did not improve from 0.74592\n",
      "Epoch 18/50\n",
      "55000/55000 [==============================] - 17s 301us/step - loss: 1.0220 - accuracy: 0.6518 - val_loss: 0.7653 - val_accuracy: 0.7701\n",
      "\n",
      "Epoch 00018: val_loss did not improve from 0.74592\n",
      "Epoch 19/50\n",
      "55000/55000 [==============================] - 11s 198us/step - loss: 1.0206 - accuracy: 0.6497 - val_loss: 0.7534 - val_accuracy: 0.7645\n",
      "\n",
      "Epoch 00019: val_loss did not improve from 0.74592\n",
      "Epoch 20/50\n",
      "55000/55000 [==============================] - 10s 185us/step - loss: 1.0168 - accuracy: 0.6530 - val_loss: 0.7670 - val_accuracy: 0.7606\n",
      "\n",
      "Epoch 00020: val_loss did not improve from 0.74592\n",
      "Epoch 21/50\n",
      "55000/55000 [==============================] - 12s 220us/step - loss: 1.0164 - accuracy: 0.6536 - val_loss: 0.7486 - val_accuracy: 0.7732\n",
      "\n",
      "Epoch 00021: val_loss did not improve from 0.74592\n",
      "Epoch 22/50\n",
      "55000/55000 [==============================] - 12s 219us/step - loss: 1.0256 - accuracy: 0.6495 - val_loss: 0.7521 - val_accuracy: 0.7781\n",
      "\n",
      "Epoch 00022: val_loss did not improve from 0.74592\n",
      "Epoch 23/50\n",
      "55000/55000 [==============================] - 12s 218us/step - loss: 1.0181 - accuracy: 0.6544 - val_loss: 0.7593 - val_accuracy: 0.7740\n",
      "\n",
      "Epoch 00023: val_loss did not improve from 0.74592\n",
      "Epoch 24/50\n",
      "55000/55000 [==============================] - 11s 203us/step - loss: 1.0182 - accuracy: 0.6553 - val_loss: 0.7671 - val_accuracy: 0.7719\n",
      "\n",
      "Epoch 00024: val_loss did not improve from 0.74592\n",
      "Epoch 25/50\n",
      "55000/55000 [==============================] - 11s 196us/step - loss: 1.0187 - accuracy: 0.6559 - val_loss: 0.7569 - val_accuracy: 0.7712\n",
      "\n",
      "Epoch 00025: val_loss did not improve from 0.74592\n",
      "Epoch 26/50\n",
      "55000/55000 [==============================] - 13s 228us/step - loss: 1.0182 - accuracy: 0.6529 - val_loss: 0.7575 - val_accuracy: 0.7682\n",
      "\n",
      "Epoch 00026: val_loss did not improve from 0.74592\n",
      "Epoch 27/50\n",
      "55000/55000 [==============================] - 12s 219us/step - loss: 1.0160 - accuracy: 0.6562 - val_loss: 0.7519 - val_accuracy: 0.7657\n",
      "\n",
      "Epoch 00027: val_loss did not improve from 0.74592\n",
      "Epoch 28/50\n",
      "55000/55000 [==============================] - 9s 170us/step - loss: 1.0178 - accuracy: 0.6537 - val_loss: 0.7608 - val_accuracy: 0.7724\n",
      "\n",
      "Epoch 00028: val_loss did not improve from 0.74592\n",
      "Epoch 29/50\n",
      "55000/55000 [==============================] - 12s 222us/step - loss: 1.0206 - accuracy: 0.6527 - val_loss: 0.7604 - val_accuracy: 0.7703\n",
      "\n",
      "Epoch 00029: val_loss did not improve from 0.74592\n",
      "Epoch 30/50\n",
      "55000/55000 [==============================] - 10s 187us/step - loss: 1.0159 - accuracy: 0.6548 - val_loss: 0.7647 - val_accuracy: 0.7619\n",
      "\n",
      "Epoch 00030: val_loss did not improve from 0.74592\n",
      "Epoch 31/50\n",
      "55000/55000 [==============================] - 9s 160us/step - loss: 1.0133 - accuracy: 0.6571 - val_loss: 0.7547 - val_accuracy: 0.7770\n",
      "\n",
      "Epoch 00031: val_loss did not improve from 0.74592\n",
      "Epoch 32/50\n",
      "55000/55000 [==============================] - 10s 179us/step - loss: 1.0112 - accuracy: 0.6561 - val_loss: 0.7490 - val_accuracy: 0.7683\n",
      "\n",
      "Epoch 00032: val_loss did not improve from 0.74592\n",
      "Epoch 33/50\n",
      "55000/55000 [==============================] - 8s 154us/step - loss: 1.0137 - accuracy: 0.6545 - val_loss: 0.7574 - val_accuracy: 0.7674\n",
      "\n",
      "Epoch 00033: val_loss did not improve from 0.74592\n",
      "Epoch 34/50\n",
      "55000/55000 [==============================] - 9s 160us/step - loss: 1.0163 - accuracy: 0.6535 - val_loss: 0.7582 - val_accuracy: 0.7751\n",
      "\n",
      "Epoch 00034: val_loss did not improve from 0.74592\n",
      "Epoch 35/50\n",
      "55000/55000 [==============================] - 9s 172us/step - loss: 1.0152 - accuracy: 0.6535 - val_loss: 0.7657 - val_accuracy: 0.7681\n",
      "\n",
      "Epoch 00035: val_loss did not improve from 0.74592\n",
      "Epoch 36/50\n",
      "55000/55000 [==============================] - 11s 199us/step - loss: 1.0086 - accuracy: 0.6572 - val_loss: 0.7647 - val_accuracy: 0.7662\n",
      "\n",
      "Epoch 00036: val_loss did not improve from 0.74592\n",
      "Epoch 37/50\n",
      "55000/55000 [==============================] - 12s 211us/step - loss: 1.0114 - accuracy: 0.6566 - val_loss: 0.7501 - val_accuracy: 0.7815\n",
      "\n",
      "Epoch 00037: val_loss did not improve from 0.74592\n",
      "Epoch 38/50\n"
     ]
    },
    {
     "name": "stdout",
     "output_type": "stream",
     "text": [
      "55000/55000 [==============================] - 12s 209us/step - loss: 1.0106 - accuracy: 0.6564 - val_loss: 0.7530 - val_accuracy: 0.7740\n",
      "\n",
      "Epoch 00038: val_loss did not improve from 0.74592\n",
      "Epoch 39/50\n",
      "55000/55000 [==============================] - 11s 207us/step - loss: 1.0042 - accuracy: 0.6573 - val_loss: 0.7544 - val_accuracy: 0.7675\n",
      "\n",
      "Epoch 00039: val_loss did not improve from 0.74592\n",
      "Epoch 40/50\n",
      "55000/55000 [==============================] - 11s 208us/step - loss: 1.0052 - accuracy: 0.6568 - val_loss: 0.7409 - val_accuracy: 0.7763\n",
      "\n",
      "Epoch 00040: val_loss improved from 0.74592 to 0.74085, saving model to minions.hdf5\n",
      "Epoch 41/50\n",
      "55000/55000 [==============================] - 11s 197us/step - loss: 0.9956 - accuracy: 0.6586 - val_loss: 0.7428 - val_accuracy: 0.7730\n",
      "\n",
      "Epoch 00041: val_loss did not improve from 0.74085\n",
      "Epoch 42/50\n",
      "55000/55000 [==============================] - 11s 205us/step - loss: 0.9974 - accuracy: 0.6603 - val_loss: 0.7221 - val_accuracy: 0.7833\n",
      "\n",
      "Epoch 00042: val_loss improved from 0.74085 to 0.72206, saving model to minions.hdf5\n",
      "Epoch 43/50\n",
      "55000/55000 [==============================] - 12s 221us/step - loss: 0.9893 - accuracy: 0.6659 - val_loss: 0.7192 - val_accuracy: 0.7793\n",
      "\n",
      "Epoch 00043: val_loss improved from 0.72206 to 0.71924, saving model to minions.hdf5\n",
      "Epoch 44/50\n",
      "55000/55000 [==============================] - 11s 199us/step - loss: 0.9879 - accuracy: 0.6663 - val_loss: 0.7082 - val_accuracy: 0.7925\n",
      "\n",
      "Epoch 00044: val_loss improved from 0.71924 to 0.70822, saving model to minions.hdf5\n",
      "Epoch 45/50\n",
      "55000/55000 [==============================] - 10s 187us/step - loss: 0.9783 - accuracy: 0.6694 - val_loss: 0.7156 - val_accuracy: 0.7923\n",
      "\n",
      "Epoch 00045: val_loss did not improve from 0.70822\n",
      "Epoch 46/50\n",
      "55000/55000 [==============================] - 11s 196us/step - loss: 0.9810 - accuracy: 0.6692 - val_loss: 0.7217 - val_accuracy: 0.7784\n",
      "\n",
      "Epoch 00046: val_loss did not improve from 0.70822\n",
      "Epoch 47/50\n",
      "55000/55000 [==============================] - 12s 220us/step - loss: 0.9719 - accuracy: 0.6684 - val_loss: 0.7152 - val_accuracy: 0.7956\n",
      "\n",
      "Epoch 00047: val_loss did not improve from 0.70822\n",
      "Epoch 48/50\n",
      "55000/55000 [==============================] - 11s 205us/step - loss: 0.9760 - accuracy: 0.6710 - val_loss: 0.7121 - val_accuracy: 0.7946\n",
      "\n",
      "Epoch 00048: val_loss did not improve from 0.70822\n",
      "Epoch 49/50\n",
      "55000/55000 [==============================] - 14s 253us/step - loss: 0.9686 - accuracy: 0.6718 - val_loss: 0.7127 - val_accuracy: 0.7911\n",
      "\n",
      "Epoch 00049: val_loss did not improve from 0.70822\n",
      "Epoch 50/50\n",
      "55000/55000 [==============================] - 11s 209us/step - loss: 0.9709 - accuracy: 0.6706 - val_loss: 0.7182 - val_accuracy: 0.7857\n",
      "\n",
      "Epoch 00050: val_loss did not improve from 0.70822\n"
     ]
    }
   ],
   "source": [
    "from keras.callbacks import ModelCheckpoint\n",
    "checkpointer = ModelCheckpoint(filepath='minions.hdf5', verbose=1, save_best_only=True, monitor='val_loss',mode='min')\n",
    "\n",
    "history = classifier.fit(X_train, y_train, epochs = 50, batch_size = 50, validation_data=(X_test, y_test), callbacks=[checkpointer])"
   ]
  },
  {
   "cell_type": "code",
   "execution_count": 17,
   "metadata": {},
   "outputs": [],
   "source": [
    "def plot_history(history) :\n",
    "    SMALL_SIZE = 20\n",
    "    MEDIUM_SIZE = 22\n",
    "    BIGGER_SIZE = 24\n",
    "\n",
    "    plt.rc('font', size=SMALL_SIZE)          # controls default text sizes\n",
    "    plt.rc('axes', titlesize=SMALL_SIZE)     # fontsize of the axes title\n",
    "    plt.rc('axes', labelsize=MEDIUM_SIZE)    # fontsize of the x and y labels\n",
    "    plt.rc('xtick', labelsize=SMALL_SIZE)    # fontsize of the tick labels\n",
    "    plt.rc('ytick', labelsize=SMALL_SIZE)    # fontsize of the tick labels\n",
    "    plt.rc('legend', fontsize=SMALL_SIZE)    # legend fontsize\n",
    "    plt.rc('figure', titlesize=BIGGER_SIZE)  # fontsize of the figure title\n",
    "\n",
    "    fig = plt.figure()\n",
    "    fig.set_size_inches(15,10)\n",
    "    plt.plot(history['loss'])\n",
    "    plt.plot(history['val_loss'])\n",
    "    plt.title('Model Loss')\n",
    "    plt.xlabel('epoch')\n",
    "    plt.ylabel('loss')\n",
    "    plt.legend(['train', 'test'],loc='upper left')\n",
    "    plt.show()"
   ]
  },
  {
   "cell_type": "code",
   "execution_count": 18,
   "metadata": {},
   "outputs": [
    {
     "data": {
      "image/png": "[encoded data removed]",
      "text/plain": [
       "<Figure size 1080x720 with 1 Axes>"
      ]
     },
     "metadata": {
      "needs_background": "light"
     },
     "output_type": "display_data"
    }
   ],
   "source": [
    "plot_history(history.history)"
   ]
  },
  {
   "cell_type": "code",
   "execution_count": 19,
   "metadata": {},
   "outputs": [],
   "source": [
    "classifier.save(\"mnist.h5\")"
   ]
  },
  {
   "cell_type": "code",
   "execution_count": 20,
   "metadata": {},
   "outputs": [],
   "source": [
    "import onnx\n",
    "import keras2onnx\n",
    "\n",
    "onnx_model = keras2onnx.convert_keras(classifier, 'mnist')\n",
    "onnx.save_model(onnx_model, 'mnist.onnx')"
   ]
  },
  {
   "cell_type": "code",
   "execution_count": 6,
   "metadata": {},
   "outputs": [
    {
     "ename": "AttributeError",
     "evalue": "module 'onnxruntime' has no attribute 'InferenceSession'",
     "output_type": "error",
     "traceback": [
      "\u001b[1;31m---------------------------------------------------------------------------\u001b[0m",
      "\u001b[1;31mAttributeError\u001b[0m                            Traceback (most recent call last)",
      "\u001b[1;32m<ipython-input-6-c4e05c43f0d4>\u001b[0m in \u001b[0;36m<module>\u001b[1;34m\u001b[0m\n\u001b[0;32m      1\u001b[0m \u001b[1;32mimport\u001b[0m \u001b[0monnxruntime\u001b[0m \u001b[1;32mas\u001b[0m \u001b[0mrt\u001b[0m\u001b[1;33m\u001b[0m\u001b[1;33m\u001b[0m\u001b[0m\n\u001b[1;32m----> 2\u001b[1;33m \u001b[0msess\u001b[0m \u001b[1;33m=\u001b[0m \u001b[0mrt\u001b[0m\u001b[1;33m.\u001b[0m\u001b[0mInferenceSession\u001b[0m\u001b[1;33m(\u001b[0m\u001b[1;34m\"mnist.onnx\"\u001b[0m\u001b[1;33m)\u001b[0m\u001b[1;33m\u001b[0m\u001b[1;33m\u001b[0m\u001b[0m\n\u001b[0m",
      "\u001b[1;31mAttributeError\u001b[0m: module 'onnxruntime' has no attribute 'InferenceSession'"
     ]
    }
   ],
   "source": [
    "import onnxruntime as rt\n",
    "sess = rt.InferenceSession(\"mnist.onnx\")"
   ]
  },
  {
   "cell_type": "code",
   "execution_count": 5,
   "metadata": {},
   "outputs": [
    {
     "ename": "NameError",
     "evalue": "name 'sess' is not defined",
     "output_type": "error",
     "traceback": [
      "\u001b[1;31m---------------------------------------------------------------------------\u001b[0m",
      "\u001b[1;31mNameError\u001b[0m                                 Traceback (most recent call last)",
      "\u001b[1;32m<ipython-input-5-3e2e7bbe96a5>\u001b[0m in \u001b[0;36m<module>\u001b[1;34m\u001b[0m\n\u001b[1;32m----> 1\u001b[1;33m \u001b[0minput_name\u001b[0m \u001b[1;33m=\u001b[0m \u001b[0msess\u001b[0m\u001b[1;33m.\u001b[0m\u001b[0mget_inputs\u001b[0m\u001b[1;33m(\u001b[0m\u001b[1;33m)\u001b[0m\u001b[1;33m[\u001b[0m\u001b[1;36m0\u001b[0m\u001b[1;33m]\u001b[0m\u001b[1;33m.\u001b[0m\u001b[0mname\u001b[0m\u001b[1;33m\u001b[0m\u001b[1;33m\u001b[0m\u001b[0m\n\u001b[0m\u001b[0;32m      2\u001b[0m \u001b[0moutput_name\u001b[0m \u001b[1;33m=\u001b[0m \u001b[0msess\u001b[0m\u001b[1;33m.\u001b[0m\u001b[0mget_outputs\u001b[0m\u001b[1;33m(\u001b[0m\u001b[1;33m)\u001b[0m\u001b[1;33m[\u001b[0m\u001b[1;36m0\u001b[0m\u001b[1;33m]\u001b[0m\u001b[1;33m.\u001b[0m\u001b[0mname\u001b[0m\u001b[1;33m\u001b[0m\u001b[1;33m\u001b[0m\u001b[0m\n",
      "\u001b[1;31mNameError\u001b[0m: name 'sess' is not defined"
     ]
    }
   ],
   "source": [
    "input_name = sess.get_inputs()[0].name\n",
    "output_name = sess.get_outputs()[0].name"
   ]
  },
  {
   "cell_type": "code",
   "execution_count": 25,
   "metadata": {},
   "outputs": [
    {
     "ename": "NameError",
     "evalue": "name 'sess' is not defined",
     "output_type": "error",
     "traceback": [
      "\u001b[1;31m---------------------------------------------------------------------------\u001b[0m",
      "\u001b[1;31mNameError\u001b[0m                                 Traceback (most recent call last)",
      "\u001b[1;32m<ipython-input-25-e7dbead33c71>\u001b[0m in \u001b[0;36m<module>\u001b[1;34m\u001b[0m\n\u001b[1;32m----> 1\u001b[1;33m \u001b[0mres\u001b[0m \u001b[1;33m=\u001b[0m \u001b[0mnp\u001b[0m\u001b[1;33m.\u001b[0m\u001b[0marray\u001b[0m\u001b[1;33m(\u001b[0m\u001b[0msess\u001b[0m\u001b[1;33m.\u001b[0m\u001b[0mrun\u001b[0m\u001b[1;33m(\u001b[0m\u001b[1;33m[\u001b[0m\u001b[0moutput_name\u001b[0m\u001b[1;33m]\u001b[0m\u001b[1;33m,\u001b[0m \u001b[1;33m{\u001b[0m\u001b[0minput_name\u001b[0m\u001b[1;33m:\u001b[0m \u001b[0mX_test\u001b[0m\u001b[1;33m}\u001b[0m\u001b[1;33m)\u001b[0m\u001b[1;33m)\u001b[0m\u001b[1;33m\u001b[0m\u001b[1;33m\u001b[0m\u001b[0m\n\u001b[0m",
      "\u001b[1;31mNameError\u001b[0m: name 'sess' is not defined"
     ]
    }
   ],
   "source": [
    "res = np.array(sess.run([output_name], {input_name: X_test}))"
   ]
  },
  {
   "cell_type": "code",
   "execution_count": 26,
   "metadata": {},
   "outputs": [
    {
     "ename": "NameError",
     "evalue": "name 'res' is not defined",
     "output_type": "error",
     "traceback": [
      "\u001b[1;31m---------------------------------------------------------------------------\u001b[0m",
      "\u001b[1;31mNameError\u001b[0m                                 Traceback (most recent call last)",
      "\u001b[1;32m<ipython-input-26-3e9d6b48bcc9>\u001b[0m in \u001b[0;36m<module>\u001b[1;34m\u001b[0m\n\u001b[0;32m      1\u001b[0m \u001b[0mplt\u001b[0m\u001b[1;33m.\u001b[0m\u001b[0mimshow\u001b[0m\u001b[1;33m(\u001b[0m\u001b[0mX_test\u001b[0m\u001b[1;33m[\u001b[0m\u001b[1;36m0\u001b[0m\u001b[1;33m]\u001b[0m\u001b[1;33m.\u001b[0m\u001b[0mreshape\u001b[0m\u001b[1;33m(\u001b[0m\u001b[1;33m(\u001b[0m\u001b[1;36m28\u001b[0m\u001b[1;33m,\u001b[0m \u001b[1;36m28\u001b[0m\u001b[1;33m)\u001b[0m\u001b[1;33m)\u001b[0m\u001b[1;33m,\u001b[0m \u001b[0mcmap\u001b[0m\u001b[1;33m=\u001b[0m\u001b[1;34m'gray'\u001b[0m\u001b[1;33m)\u001b[0m\u001b[1;33m\u001b[0m\u001b[1;33m\u001b[0m\u001b[0m\n\u001b[1;32m----> 2\u001b[1;33m \u001b[0mprint\u001b[0m\u001b[1;33m(\u001b[0m\u001b[0mres\u001b[0m\u001b[1;33m[\u001b[0m\u001b[1;36m0\u001b[0m\u001b[1;33m]\u001b[0m\u001b[1;33m[\u001b[0m\u001b[1;36m0\u001b[0m\u001b[1;33m]\u001b[0m\u001b[1;33m)\u001b[0m\u001b[1;33m\u001b[0m\u001b[1;33m\u001b[0m\u001b[0m\n\u001b[0m",
      "\u001b[1;31mNameError\u001b[0m: name 'res' is not defined"
     ]
    },
    {
     "data": {
      "image/png": "[encoded data removed]",
      "text/plain": [
       "<Figure size 432x288 with 1 Axes>"
      ]
     },
     "metadata": {
      "needs_background": "light"
     },
     "output_type": "display_data"
    }
   ],
   "source": [
    "plt.imshow(X_test[0].reshape((28, 28)), cmap='gray')\n",
    "print(res[0][0])"
   ]
  },
  {
   "cell_type": "code",
   "execution_count": null,
   "metadata": {},
   "outputs": [],
   "source": []
  }
 ],
 "metadata": {
  "kernelspec": {
   "display_name": "Python 3",
   "language": "python",
   "name": "python3"
  },
  "language_info": {
   "codemirror_mode": {
    "name": "ipython",
    "version": 3
   },
   "file_extension": ".py",
   "mimetype": "text/x-python",
   "name": "python",
   "nbconvert_exporter": "python",
   "pygments_lexer": "ipython3",
   "version": "3.7.6"
  }
 },
 "nbformat": 4,
 "nbformat_minor": 4
}
